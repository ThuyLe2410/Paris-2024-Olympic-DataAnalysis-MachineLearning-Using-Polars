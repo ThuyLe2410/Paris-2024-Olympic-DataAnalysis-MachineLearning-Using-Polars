{
 "cells": [
  {
   "cell_type": "code",
   "execution_count": 3,
   "metadata": {},
   "outputs": [
    {
     "name": "stdout",
     "output_type": "stream",
     "text": [
      "Requirement already satisfied: polars in ./polars_env/lib/python3.12/site-packages (1.5.0)\n",
      "Requirement already satisfied: scikit-learn in ./polars_env/lib/python3.12/site-packages (1.5.1)\n",
      "Requirement already satisfied: matplotlib in ./polars_env/lib/python3.12/site-packages (3.9.2)\n",
      "Requirement already satisfied: seaborn in ./polars_env/lib/python3.12/site-packages (0.13.2)\n",
      "Requirement already satisfied: numpy>=1.19.5 in ./polars_env/lib/python3.12/site-packages (from scikit-learn) (2.0.1)\n",
      "Requirement already satisfied: scipy>=1.6.0 in ./polars_env/lib/python3.12/site-packages (from scikit-learn) (1.14.0)\n",
      "Requirement already satisfied: joblib>=1.2.0 in ./polars_env/lib/python3.12/site-packages (from scikit-learn) (1.4.2)\n",
      "Requirement already satisfied: threadpoolctl>=3.1.0 in ./polars_env/lib/python3.12/site-packages (from scikit-learn) (3.5.0)\n",
      "Requirement already satisfied: contourpy>=1.0.1 in ./polars_env/lib/python3.12/site-packages (from matplotlib) (1.2.1)\n",
      "Requirement already satisfied: cycler>=0.10 in ./polars_env/lib/python3.12/site-packages (from matplotlib) (0.12.1)\n",
      "Requirement already satisfied: fonttools>=4.22.0 in ./polars_env/lib/python3.12/site-packages (from matplotlib) (4.53.1)\n",
      "Requirement already satisfied: kiwisolver>=1.3.1 in ./polars_env/lib/python3.12/site-packages (from matplotlib) (1.4.5)\n",
      "Requirement already satisfied: packaging>=20.0 in ./polars_env/lib/python3.12/site-packages (from matplotlib) (24.1)\n",
      "Requirement already satisfied: pillow>=8 in ./polars_env/lib/python3.12/site-packages (from matplotlib) (10.4.0)\n",
      "Requirement already satisfied: pyparsing>=2.3.1 in ./polars_env/lib/python3.12/site-packages (from matplotlib) (3.1.2)\n",
      "Requirement already satisfied: python-dateutil>=2.7 in ./polars_env/lib/python3.12/site-packages (from matplotlib) (2.9.0.post0)\n",
      "Requirement already satisfied: pandas>=1.2 in ./polars_env/lib/python3.12/site-packages (from seaborn) (2.2.2)\n",
      "Requirement already satisfied: pytz>=2020.1 in ./polars_env/lib/python3.12/site-packages (from pandas>=1.2->seaborn) (2024.1)\n",
      "Requirement already satisfied: tzdata>=2022.7 in ./polars_env/lib/python3.12/site-packages (from pandas>=1.2->seaborn) (2024.1)\n",
      "Requirement already satisfied: six>=1.5 in ./polars_env/lib/python3.12/site-packages (from python-dateutil>=2.7->matplotlib) (1.16.0)\n",
      "Note: you may need to restart the kernel to use updated packages.\n"
     ]
    }
   ],
   "source": [
    "pip install polars scikit-learn matplotlib seaborn"
   ]
  },
  {
   "cell_type": "code",
   "execution_count": 4,
   "metadata": {},
   "outputs": [],
   "source": [
    "import polars as pl "
   ]
  },
  {
   "cell_type": "code",
   "execution_count": 84,
   "metadata": {},
   "outputs": [
    {
     "data": {
      "text/html": [
       "<div><style>\n",
       ".dataframe > thead > tr,\n",
       ".dataframe > tbody > tr {\n",
       "  text-align: right;\n",
       "  white-space: pre-wrap;\n",
       "}\n",
       "</style>\n",
       "<small>shape: (5, 35)</small><table border=\"1\" class=\"dataframe\"><thead><tr><th>code</th><th>name</th><th>name_short</th><th>name_tv</th><th>gender</th><th>function</th><th>country_code</th><th>country</th><th>country_full</th><th>nationality</th><th>nationality_full</th><th>nationality_code</th><th>height</th><th>weight</th><th>disciplines</th><th>events</th><th>birth_date</th><th>birth_place</th><th>birth_country</th><th>residence_place</th><th>residence_country</th><th>nickname</th><th>hobbies</th><th>occupation</th><th>education</th><th>family</th><th>lang</th><th>coach</th><th>reason</th><th>hero</th><th>influence</th><th>philosophy</th><th>sporting_relatives</th><th>ritual</th><th>other_sports</th></tr><tr><td>i64</td><td>str</td><td>str</td><td>str</td><td>str</td><td>str</td><td>str</td><td>str</td><td>str</td><td>str</td><td>str</td><td>str</td><td>i64</td><td>f64</td><td>str</td><td>str</td><td>str</td><td>str</td><td>str</td><td>str</td><td>str</td><td>str</td><td>str</td><td>str</td><td>str</td><td>str</td><td>str</td><td>str</td><td>str</td><td>str</td><td>str</td><td>str</td><td>str</td><td>str</td><td>str</td></tr></thead><tbody><tr><td>1532872</td><td>&quot;ALEKSANYAN Artur&quot;</td><td>&quot;ALEKSANYAN A&quot;</td><td>&quot;Artur ALEKSANYAN&quot;</td><td>&quot;Male&quot;</td><td>&quot;Athlete&quot;</td><td>&quot;ARM&quot;</td><td>&quot;Armenia&quot;</td><td>&quot;Armenia&quot;</td><td>&quot;Armenia&quot;</td><td>&quot;Armenia&quot;</td><td>&quot;ARM&quot;</td><td>0</td><td>0.0</td><td>&quot;[&#x27;Wrestling&#x27;]&quot;</td><td>&quot;[&quot;Men&#x27;s Greco-Roman 97kg&quot;]&quot;</td><td>&quot;1991-10-21&quot;</td><td>&quot;GYUMRI&quot;</td><td>&quot;Armenia&quot;</td><td>&quot;GYUMRI&quot;</td><td>&quot;Armenia&quot;</td><td>&quot;White Bear&quot;</td><td>&quot;Playing and watching football&quot;</td><td>&quot;Athlete&quot;</td><td>&quot;Graduated from Shirak State Un…</td><td>&quot;Father, Gevorg Aleksanyan&quot;</td><td>&quot;Armenian, English, Russian&quot;</td><td>&quot;Gevorg Aleksanyan (ARM), fathe…</td><td>&quot;He followed his father and his…</td><td>&quot;Footballer Zinedine Zidane (FR…</td><td>&quot;His father, Gevorg Aleksanyan&quot;</td><td>&quot;&quot;Wrestling is my life.&quot; (media…</td><td>null</td><td>null</td><td>null</td></tr><tr><td>1532873</td><td>&quot;AMOYAN Malkhas&quot;</td><td>&quot;AMOYAN M&quot;</td><td>&quot;Malkhas AMOYAN&quot;</td><td>&quot;Male&quot;</td><td>&quot;Athlete&quot;</td><td>&quot;ARM&quot;</td><td>&quot;Armenia&quot;</td><td>&quot;Armenia&quot;</td><td>&quot;Armenia&quot;</td><td>&quot;Armenia&quot;</td><td>&quot;ARM&quot;</td><td>0</td><td>0.0</td><td>&quot;[&#x27;Wrestling&#x27;]&quot;</td><td>&quot;[&quot;Men&#x27;s Greco-Roman 77kg&quot;]&quot;</td><td>&quot;1999-01-22&quot;</td><td>&quot;YEREVAN&quot;</td><td>&quot;Armenia&quot;</td><td>&quot;YEREVAN&quot;</td><td>&quot;Armenia&quot;</td><td>null</td><td>null</td><td>null</td><td>null</td><td>null</td><td>&quot;Armenian&quot;</td><td>null</td><td>null</td><td>null</td><td>null</td><td>&quot;&quot;To become a good athlete, you…</td><td>&quot;Uncle, Roman Amoyan (wrestling…</td><td>null</td><td>null</td></tr><tr><td>1532874</td><td>&quot;GALSTYAN Slavik&quot;</td><td>&quot;GALSTYAN S&quot;</td><td>&quot;Slavik GALSTYAN&quot;</td><td>&quot;Male&quot;</td><td>&quot;Athlete&quot;</td><td>&quot;ARM&quot;</td><td>&quot;Armenia&quot;</td><td>&quot;Armenia&quot;</td><td>&quot;Armenia&quot;</td><td>&quot;Armenia&quot;</td><td>&quot;ARM&quot;</td><td>0</td><td>0.0</td><td>&quot;[&#x27;Wrestling&#x27;]&quot;</td><td>&quot;[&quot;Men&#x27;s Greco-Roman 67kg&quot;]&quot;</td><td>&quot;1996-12-21&quot;</td><td>null</td><td>null</td><td>&quot;YEREVAN&quot;</td><td>&quot;Armenia&quot;</td><td>null</td><td>null</td><td>null</td><td>null</td><td>null</td><td>&quot;Armenian&quot;</td><td>&quot;Personal: Martin Alekhanyan (A…</td><td>null</td><td>null</td><td>null</td><td>null</td><td>null</td><td>null</td><td>null</td></tr><tr><td>1532944</td><td>&quot;HARUTYUNYAN Arsen&quot;</td><td>&quot;HARUTYUNYAN A&quot;</td><td>&quot;Arsen HARUTYUNYAN&quot;</td><td>&quot;Male&quot;</td><td>&quot;Athlete&quot;</td><td>&quot;ARM&quot;</td><td>&quot;Armenia&quot;</td><td>&quot;Armenia&quot;</td><td>&quot;Armenia&quot;</td><td>&quot;Armenia&quot;</td><td>&quot;ARM&quot;</td><td>0</td><td>0.0</td><td>&quot;[&#x27;Wrestling&#x27;]&quot;</td><td>&quot;[&quot;Men&#x27;s Freestyle 57kg&quot;]&quot;</td><td>&quot;1999-11-22&quot;</td><td>&quot;MASIS&quot;</td><td>&quot;Armenia&quot;</td><td>&quot;YEREVAN&quot;</td><td>&quot;Armenia&quot;</td><td>null</td><td>null</td><td>&quot;Athlete&quot;</td><td>&quot;Graduated with a Master&#x27;s degr…</td><td>&quot;Wife, Diana (married October 2…</td><td>&quot;Armenian&quot;</td><td>&quot;National: Habetnak Kurghinyan&quot;</td><td>&quot;While doing karate he noticed …</td><td>&quot;Wrestler Armen Nazaryan (ARM, …</td><td>null</td><td>&quot;“Nothing is impossible, set go…</td><td>null</td><td>null</td><td>null</td></tr><tr><td>1532945</td><td>&quot;TEVANYAN Vazgen&quot;</td><td>&quot;TEVANYAN V&quot;</td><td>&quot;Vazgen TEVANYAN&quot;</td><td>&quot;Male&quot;</td><td>&quot;Athlete&quot;</td><td>&quot;ARM&quot;</td><td>&quot;Armenia&quot;</td><td>&quot;Armenia&quot;</td><td>&quot;Armenia&quot;</td><td>&quot;Armenia&quot;</td><td>&quot;ARM&quot;</td><td>0</td><td>0.0</td><td>&quot;[&#x27;Wrestling&#x27;]&quot;</td><td>&quot;[&quot;Men&#x27;s Freestyle 65kg&quot;]&quot;</td><td>&quot;1999-10-27&quot;</td><td>&quot;POKR VEDI&quot;</td><td>&quot;Armenia&quot;</td><td>null</td><td>&quot;Armenia&quot;</td><td>null</td><td>null</td><td>&quot;Athlete&quot;</td><td>&quot;Studied at the Armenian State …</td><td>&quot;Wife, Sona (married November 2…</td><td>&quot;Armenian, Russian&quot;</td><td>&quot;National: Habetnak Kurghinyan …</td><td>&quot;“My family did not like wrestl…</td><td>null</td><td>null</td><td>null</td><td>null</td><td>null</td><td>null</td></tr></tbody></table></div>"
      ],
      "text/plain": [
       "shape: (5, 35)\n",
       "┌─────────┬────────────┬────────────┬────────────┬───┬────────────┬───────────┬────────┬───────────┐\n",
       "│ code    ┆ name       ┆ name_short ┆ name_tv    ┆ … ┆ philosophy ┆ sporting_ ┆ ritual ┆ other_spo │\n",
       "│ ---     ┆ ---        ┆ ---        ┆ ---        ┆   ┆ ---        ┆ relatives ┆ ---    ┆ rts       │\n",
       "│ i64     ┆ str        ┆ str        ┆ str        ┆   ┆ str        ┆ ---       ┆ str    ┆ ---       │\n",
       "│         ┆            ┆            ┆            ┆   ┆            ┆ str       ┆        ┆ str       │\n",
       "╞═════════╪════════════╪════════════╪════════════╪═══╪════════════╪═══════════╪════════╪═══════════╡\n",
       "│ 1532872 ┆ ALEKSANYAN ┆ ALEKSANYAN ┆ Artur      ┆ … ┆ \"Wrestling ┆ null      ┆ null   ┆ null      │\n",
       "│         ┆ Artur      ┆ A          ┆ ALEKSANYAN ┆   ┆ is my      ┆           ┆        ┆           │\n",
       "│         ┆            ┆            ┆            ┆   ┆ life.\"     ┆           ┆        ┆           │\n",
       "│         ┆            ┆            ┆            ┆   ┆ (media…    ┆           ┆        ┆           │\n",
       "│ 1532873 ┆ AMOYAN     ┆ AMOYAN M   ┆ Malkhas    ┆ … ┆ \"To become ┆ Uncle,    ┆ null   ┆ null      │\n",
       "│         ┆ Malkhas    ┆            ┆ AMOYAN     ┆   ┆ a good     ┆ Roman     ┆        ┆           │\n",
       "│         ┆            ┆            ┆            ┆   ┆ athlete,   ┆ Amoyan    ┆        ┆           │\n",
       "│         ┆            ┆            ┆            ┆   ┆ you…       ┆ (wrestlin ┆        ┆           │\n",
       "│         ┆            ┆            ┆            ┆   ┆            ┆ g…        ┆        ┆           │\n",
       "│ 1532874 ┆ GALSTYAN   ┆ GALSTYAN S ┆ Slavik     ┆ … ┆ null       ┆ null      ┆ null   ┆ null      │\n",
       "│         ┆ Slavik     ┆            ┆ GALSTYAN   ┆   ┆            ┆           ┆        ┆           │\n",
       "│ 1532944 ┆ HARUTYUNYA ┆ HARUTYUNYA ┆ Arsen HARU ┆ … ┆ “Nothing   ┆ null      ┆ null   ┆ null      │\n",
       "│         ┆ N Arsen    ┆ N A        ┆ TYUNYAN    ┆   ┆ is impossi ┆           ┆        ┆           │\n",
       "│         ┆            ┆            ┆            ┆   ┆ ble, set   ┆           ┆        ┆           │\n",
       "│         ┆            ┆            ┆            ┆   ┆ go…        ┆           ┆        ┆           │\n",
       "│ 1532945 ┆ TEVANYAN   ┆ TEVANYAN V ┆ Vazgen     ┆ … ┆ null       ┆ null      ┆ null   ┆ null      │\n",
       "│         ┆ Vazgen     ┆            ┆ TEVANYAN   ┆   ┆            ┆           ┆        ┆           │\n",
       "└─────────┴────────────┴────────────┴────────────┴───┴────────────┴───────────┴────────┴───────────┘"
      ]
     },
     "execution_count": 84,
     "metadata": {},
     "output_type": "execute_result"
    }
   ],
   "source": [
    "athletes = pl.read_csv(\"./Data/athletes.csv\")\n",
    "medals = pl.read_csv(\"./Data/medals.csv\")\n",
    "final_result = pl.read_csv(\"./Data/medals_total.csv\")\n",
    "athletes.head(5)\n"
   ]
  },
  {
   "cell_type": "code",
   "execution_count": 85,
   "metadata": {},
   "outputs": [
    {
     "data": {
      "text/html": [
       "<div><style>\n",
       ".dataframe > thead > tr,\n",
       ".dataframe > tbody > tr {\n",
       "  text-align: right;\n",
       "  white-space: pre-wrap;\n",
       "}\n",
       "</style>\n",
       "<small>shape: (5, 11)</small><table border=\"1\" class=\"dataframe\"><thead><tr><th>medal_type</th><th>medal_code</th><th>medal_date</th><th>name</th><th>country_code</th><th>gender</th><th>discipline</th><th>event</th><th>event_type</th><th>url_event</th><th>code</th></tr><tr><td>str</td><td>i64</td><td>str</td><td>str</td><td>str</td><td>str</td><td>str</td><td>str</td><td>str</td><td>str</td><td>str</td></tr></thead><tbody><tr><td>&quot;Gold Medal&quot;</td><td>1</td><td>&quot;2024-07-27&quot;</td><td>&quot;Remco EVENEPOEL&quot;</td><td>&quot;BEL&quot;</td><td>&quot;M&quot;</td><td>&quot;Cycling Road&quot;</td><td>&quot;Men&#x27;s Individual Time Trial&quot;</td><td>&quot;ATH&quot;</td><td>&quot;/en/paris-2024/results/cycling…</td><td>&quot;1903136&quot;</td></tr><tr><td>&quot;Silver Medal&quot;</td><td>2</td><td>&quot;2024-07-27&quot;</td><td>&quot;Filippo GANNA&quot;</td><td>&quot;ITA&quot;</td><td>&quot;M&quot;</td><td>&quot;Cycling Road&quot;</td><td>&quot;Men&#x27;s Individual Time Trial&quot;</td><td>&quot;ATH&quot;</td><td>&quot;/en/paris-2024/results/cycling…</td><td>&quot;1923520&quot;</td></tr><tr><td>&quot;Bronze Medal&quot;</td><td>3</td><td>&quot;2024-07-27&quot;</td><td>&quot;Wout van AERT&quot;</td><td>&quot;BEL&quot;</td><td>&quot;M&quot;</td><td>&quot;Cycling Road&quot;</td><td>&quot;Men&#x27;s Individual Time Trial&quot;</td><td>&quot;ATH&quot;</td><td>&quot;/en/paris-2024/results/cycling…</td><td>&quot;1903147&quot;</td></tr><tr><td>&quot;Gold Medal&quot;</td><td>1</td><td>&quot;2024-07-27&quot;</td><td>&quot;Grace BROWN&quot;</td><td>&quot;AUS&quot;</td><td>&quot;W&quot;</td><td>&quot;Cycling Road&quot;</td><td>&quot;Women&#x27;s Individual Time Trial&quot;</td><td>&quot;ATH&quot;</td><td>&quot;/en/paris-2024/results/cycling…</td><td>&quot;1940173&quot;</td></tr><tr><td>&quot;Silver Medal&quot;</td><td>2</td><td>&quot;2024-07-27&quot;</td><td>&quot;Anna HENDERSON&quot;</td><td>&quot;GBR&quot;</td><td>&quot;W&quot;</td><td>&quot;Cycling Road&quot;</td><td>&quot;Women&#x27;s Individual Time Trial&quot;</td><td>&quot;ATH&quot;</td><td>&quot;/en/paris-2024/results/cycling…</td><td>&quot;1912525&quot;</td></tr></tbody></table></div>"
      ],
      "text/plain": [
       "shape: (5, 11)\n",
       "┌────────────┬───────────┬───────────┬───────────┬───┬───────────┬───────────┬───────────┬─────────┐\n",
       "│ medal_type ┆ medal_cod ┆ medal_dat ┆ name      ┆ … ┆ event     ┆ event_typ ┆ url_event ┆ code    │\n",
       "│ ---        ┆ e         ┆ e         ┆ ---       ┆   ┆ ---       ┆ e         ┆ ---       ┆ ---     │\n",
       "│ str        ┆ ---       ┆ ---       ┆ str       ┆   ┆ str       ┆ ---       ┆ str       ┆ str     │\n",
       "│            ┆ i64       ┆ str       ┆           ┆   ┆           ┆ str       ┆           ┆         │\n",
       "╞════════════╪═══════════╪═══════════╪═══════════╪═══╪═══════════╪═══════════╪═══════════╪═════════╡\n",
       "│ Gold Medal ┆ 1         ┆ 2024-07-2 ┆ Remco     ┆ … ┆ Men's Ind ┆ ATH       ┆ /en/paris ┆ 1903136 │\n",
       "│            ┆           ┆ 7         ┆ EVENEPOEL ┆   ┆ ividual   ┆           ┆ -2024/res ┆         │\n",
       "│            ┆           ┆           ┆           ┆   ┆ Time      ┆           ┆ ults/cycl ┆         │\n",
       "│            ┆           ┆           ┆           ┆   ┆ Trial     ┆           ┆ ing…      ┆         │\n",
       "│ Silver     ┆ 2         ┆ 2024-07-2 ┆ Filippo   ┆ … ┆ Men's Ind ┆ ATH       ┆ /en/paris ┆ 1923520 │\n",
       "│ Medal      ┆           ┆ 7         ┆ GANNA     ┆   ┆ ividual   ┆           ┆ -2024/res ┆         │\n",
       "│            ┆           ┆           ┆           ┆   ┆ Time      ┆           ┆ ults/cycl ┆         │\n",
       "│            ┆           ┆           ┆           ┆   ┆ Trial     ┆           ┆ ing…      ┆         │\n",
       "│ Bronze     ┆ 3         ┆ 2024-07-2 ┆ Wout van  ┆ … ┆ Men's Ind ┆ ATH       ┆ /en/paris ┆ 1903147 │\n",
       "│ Medal      ┆           ┆ 7         ┆ AERT      ┆   ┆ ividual   ┆           ┆ -2024/res ┆         │\n",
       "│            ┆           ┆           ┆           ┆   ┆ Time      ┆           ┆ ults/cycl ┆         │\n",
       "│            ┆           ┆           ┆           ┆   ┆ Trial     ┆           ┆ ing…      ┆         │\n",
       "│ Gold Medal ┆ 1         ┆ 2024-07-2 ┆ Grace     ┆ … ┆ Women's   ┆ ATH       ┆ /en/paris ┆ 1940173 │\n",
       "│            ┆           ┆ 7         ┆ BROWN     ┆   ┆ Individua ┆           ┆ -2024/res ┆         │\n",
       "│            ┆           ┆           ┆           ┆   ┆ l Time    ┆           ┆ ults/cycl ┆         │\n",
       "│            ┆           ┆           ┆           ┆   ┆ Trial     ┆           ┆ ing…      ┆         │\n",
       "│ Silver     ┆ 2         ┆ 2024-07-2 ┆ Anna      ┆ … ┆ Women's   ┆ ATH       ┆ /en/paris ┆ 1912525 │\n",
       "│ Medal      ┆           ┆ 7         ┆ HENDERSON ┆   ┆ Individua ┆           ┆ -2024/res ┆         │\n",
       "│            ┆           ┆           ┆           ┆   ┆ l Time    ┆           ┆ ults/cycl ┆         │\n",
       "│            ┆           ┆           ┆           ┆   ┆ Trial     ┆           ┆ ing…      ┆         │\n",
       "└────────────┴───────────┴───────────┴───────────┴───┴───────────┴───────────┴───────────┴─────────┘"
      ]
     },
     "execution_count": 85,
     "metadata": {},
     "output_type": "execute_result"
    }
   ],
   "source": [
    "medals.head(5)\n"
   ]
  },
  {
   "cell_type": "code",
   "execution_count": 86,
   "metadata": {},
   "outputs": [
    {
     "data": {
      "text/html": [
       "<div><style>\n",
       ".dataframe > thead > tr,\n",
       ".dataframe > tbody > tr {\n",
       "  text-align: right;\n",
       "  white-space: pre-wrap;\n",
       "}\n",
       "</style>\n",
       "<small>shape: (5, 5)</small><table border=\"1\" class=\"dataframe\"><thead><tr><th>country_code</th><th>Gold Medal</th><th>Silver Medal</th><th>Bronze Medal</th><th>Total</th></tr><tr><td>str</td><td>i64</td><td>i64</td><td>i64</td><td>i64</td></tr></thead><tbody><tr><td>&quot;USA&quot;</td><td>40</td><td>44</td><td>42</td><td>126</td></tr><tr><td>&quot;CHN&quot;</td><td>39</td><td>27</td><td>24</td><td>90</td></tr><tr><td>&quot;JPN&quot;</td><td>20</td><td>12</td><td>13</td><td>45</td></tr><tr><td>&quot;AUS&quot;</td><td>18</td><td>19</td><td>16</td><td>53</td></tr><tr><td>&quot;FRA&quot;</td><td>16</td><td>26</td><td>22</td><td>64</td></tr></tbody></table></div>"
      ],
      "text/plain": [
       "shape: (5, 5)\n",
       "┌──────────────┬────────────┬──────────────┬──────────────┬───────┐\n",
       "│ country_code ┆ Gold Medal ┆ Silver Medal ┆ Bronze Medal ┆ Total │\n",
       "│ ---          ┆ ---        ┆ ---          ┆ ---          ┆ ---   │\n",
       "│ str          ┆ i64        ┆ i64          ┆ i64          ┆ i64   │\n",
       "╞══════════════╪════════════╪══════════════╪══════════════╪═══════╡\n",
       "│ USA          ┆ 40         ┆ 44           ┆ 42           ┆ 126   │\n",
       "│ CHN          ┆ 39         ┆ 27           ┆ 24           ┆ 90    │\n",
       "│ JPN          ┆ 20         ┆ 12           ┆ 13           ┆ 45    │\n",
       "│ AUS          ┆ 18         ┆ 19           ┆ 16           ┆ 53    │\n",
       "│ FRA          ┆ 16         ┆ 26           ┆ 22           ┆ 64    │\n",
       "└──────────────┴────────────┴──────────────┴──────────────┴───────┘"
      ]
     },
     "execution_count": 86,
     "metadata": {},
     "output_type": "execute_result"
    }
   ],
   "source": [
    "final_result.head()"
   ]
  },
  {
   "cell_type": "markdown",
   "metadata": {},
   "source": [
    "**Exploring the countries that achieved the most medals in the games**"
   ]
  },
  {
   "cell_type": "code",
   "execution_count": 8,
   "metadata": {},
   "outputs": [
    {
     "name": "stdout",
     "output_type": "stream",
     "text": [
      "Requirement already satisfied: plotly-express in ./polars_env/lib/python3.12/site-packages (0.4.1)\n",
      "Requirement already satisfied: pandas>=0.20.0 in ./polars_env/lib/python3.12/site-packages (from plotly-express) (2.2.2)\n",
      "Requirement already satisfied: plotly>=4.1.0 in ./polars_env/lib/python3.12/site-packages (from plotly-express) (5.23.0)\n",
      "Requirement already satisfied: statsmodels>=0.9.0 in ./polars_env/lib/python3.12/site-packages (from plotly-express) (0.14.2)\n",
      "Requirement already satisfied: scipy>=0.18 in ./polars_env/lib/python3.12/site-packages (from plotly-express) (1.14.0)\n",
      "Requirement already satisfied: patsy>=0.5 in ./polars_env/lib/python3.12/site-packages (from plotly-express) (0.5.6)\n",
      "Requirement already satisfied: numpy>=1.11 in ./polars_env/lib/python3.12/site-packages (from plotly-express) (2.0.1)\n",
      "Requirement already satisfied: python-dateutil>=2.8.2 in ./polars_env/lib/python3.12/site-packages (from pandas>=0.20.0->plotly-express) (2.9.0.post0)\n",
      "Requirement already satisfied: pytz>=2020.1 in ./polars_env/lib/python3.12/site-packages (from pandas>=0.20.0->plotly-express) (2024.1)\n",
      "Requirement already satisfied: tzdata>=2022.7 in ./polars_env/lib/python3.12/site-packages (from pandas>=0.20.0->plotly-express) (2024.1)\n",
      "Requirement already satisfied: six in ./polars_env/lib/python3.12/site-packages (from patsy>=0.5->plotly-express) (1.16.0)\n",
      "Requirement already satisfied: tenacity>=6.2.0 in ./polars_env/lib/python3.12/site-packages (from plotly>=4.1.0->plotly-express) (9.0.0)\n",
      "Requirement already satisfied: packaging in ./polars_env/lib/python3.12/site-packages (from plotly>=4.1.0->plotly-express) (24.1)\n",
      "Note: you may need to restart the kernel to use updated packages.\n"
     ]
    }
   ],
   "source": [
    "pip install plotly-express"
   ]
  },
  {
   "cell_type": "code",
   "execution_count": 87,
   "metadata": {},
   "outputs": [
    {
     "data": {
      "application/vnd.plotly.v1+json": {
       "config": {
        "plotlyServerURL": "https://plot.ly"
       },
       "data": [
        {
         "alignmentgroup": "True",
         "hovertemplate": "variable=Gold Medal<br>country_code=%{x}<br>value=%{y}<extra></extra>",
         "legendgroup": "Gold Medal",
         "marker": {
          "color": "#FFD700",
          "pattern": {
           "shape": ""
          }
         },
         "name": "Gold Medal",
         "offsetgroup": "Gold Medal",
         "orientation": "v",
         "showlegend": true,
         "textposition": "auto",
         "type": "bar",
         "x": [
          "USA",
          "CHN",
          "FRA",
          "GBR",
          "AUS",
          "JPN",
          "ITA",
          "NED",
          "KOR",
          "GER"
         ],
         "xaxis": "x",
         "y": [
          40,
          39,
          16,
          14,
          18,
          20,
          12,
          15,
          13,
          11
         ],
         "yaxis": "y"
        },
        {
         "alignmentgroup": "True",
         "hovertemplate": "variable=Silver Medal<br>country_code=%{x}<br>value=%{y}<extra></extra>",
         "legendgroup": "Silver Medal",
         "marker": {
          "color": "#C0C0C0",
          "pattern": {
           "shape": ""
          }
         },
         "name": "Silver Medal",
         "offsetgroup": "Silver Medal",
         "orientation": "v",
         "showlegend": true,
         "textposition": "auto",
         "type": "bar",
         "x": [
          "USA",
          "CHN",
          "FRA",
          "GBR",
          "AUS",
          "JPN",
          "ITA",
          "NED",
          "KOR",
          "GER"
         ],
         "xaxis": "x",
         "y": [
          44,
          27,
          26,
          21,
          19,
          12,
          13,
          7,
          9,
          13
         ],
         "yaxis": "y"
        },
        {
         "alignmentgroup": "True",
         "hovertemplate": "variable=Bronze Medal<br>country_code=%{x}<br>value=%{y}<extra></extra>",
         "legendgroup": "Bronze Medal",
         "marker": {
          "color": "#CD7F32",
          "pattern": {
           "shape": ""
          }
         },
         "name": "Bronze Medal",
         "offsetgroup": "Bronze Medal",
         "orientation": "v",
         "showlegend": true,
         "textposition": "auto",
         "type": "bar",
         "x": [
          "USA",
          "CHN",
          "FRA",
          "GBR",
          "AUS",
          "JPN",
          "ITA",
          "NED",
          "KOR",
          "GER"
         ],
         "xaxis": "x",
         "y": [
          42,
          24,
          22,
          29,
          16,
          13,
          13,
          12,
          10,
          8
         ],
         "yaxis": "y"
        }
       ],
       "layout": {
        "barmode": "stack",
        "legend": {
         "title": {
          "text": "Medals type"
         },
         "tracegroupgap": 0
        },
        "template": {
         "data": {
          "bar": [
           {
            "error_x": {
             "color": "#2a3f5f"
            },
            "error_y": {
             "color": "#2a3f5f"
            },
            "marker": {
             "line": {
              "color": "#E5ECF6",
              "width": 0.5
             },
             "pattern": {
              "fillmode": "overlay",
              "size": 10,
              "solidity": 0.2
             }
            },
            "type": "bar"
           }
          ],
          "barpolar": [
           {
            "marker": {
             "line": {
              "color": "#E5ECF6",
              "width": 0.5
             },
             "pattern": {
              "fillmode": "overlay",
              "size": 10,
              "solidity": 0.2
             }
            },
            "type": "barpolar"
           }
          ],
          "carpet": [
           {
            "aaxis": {
             "endlinecolor": "#2a3f5f",
             "gridcolor": "white",
             "linecolor": "white",
             "minorgridcolor": "white",
             "startlinecolor": "#2a3f5f"
            },
            "baxis": {
             "endlinecolor": "#2a3f5f",
             "gridcolor": "white",
             "linecolor": "white",
             "minorgridcolor": "white",
             "startlinecolor": "#2a3f5f"
            },
            "type": "carpet"
           }
          ],
          "choropleth": [
           {
            "colorbar": {
             "outlinewidth": 0,
             "ticks": ""
            },
            "type": "choropleth"
           }
          ],
          "contour": [
           {
            "colorbar": {
             "outlinewidth": 0,
             "ticks": ""
            },
            "colorscale": [
             [
              0,
              "#0d0887"
             ],
             [
              0.1111111111111111,
              "#46039f"
             ],
             [
              0.2222222222222222,
              "#7201a8"
             ],
             [
              0.3333333333333333,
              "#9c179e"
             ],
             [
              0.4444444444444444,
              "#bd3786"
             ],
             [
              0.5555555555555556,
              "#d8576b"
             ],
             [
              0.6666666666666666,
              "#ed7953"
             ],
             [
              0.7777777777777778,
              "#fb9f3a"
             ],
             [
              0.8888888888888888,
              "#fdca26"
             ],
             [
              1,
              "#f0f921"
             ]
            ],
            "type": "contour"
           }
          ],
          "contourcarpet": [
           {
            "colorbar": {
             "outlinewidth": 0,
             "ticks": ""
            },
            "type": "contourcarpet"
           }
          ],
          "heatmap": [
           {
            "colorbar": {
             "outlinewidth": 0,
             "ticks": ""
            },
            "colorscale": [
             [
              0,
              "#0d0887"
             ],
             [
              0.1111111111111111,
              "#46039f"
             ],
             [
              0.2222222222222222,
              "#7201a8"
             ],
             [
              0.3333333333333333,
              "#9c179e"
             ],
             [
              0.4444444444444444,
              "#bd3786"
             ],
             [
              0.5555555555555556,
              "#d8576b"
             ],
             [
              0.6666666666666666,
              "#ed7953"
             ],
             [
              0.7777777777777778,
              "#fb9f3a"
             ],
             [
              0.8888888888888888,
              "#fdca26"
             ],
             [
              1,
              "#f0f921"
             ]
            ],
            "type": "heatmap"
           }
          ],
          "heatmapgl": [
           {
            "colorbar": {
             "outlinewidth": 0,
             "ticks": ""
            },
            "colorscale": [
             [
              0,
              "#0d0887"
             ],
             [
              0.1111111111111111,
              "#46039f"
             ],
             [
              0.2222222222222222,
              "#7201a8"
             ],
             [
              0.3333333333333333,
              "#9c179e"
             ],
             [
              0.4444444444444444,
              "#bd3786"
             ],
             [
              0.5555555555555556,
              "#d8576b"
             ],
             [
              0.6666666666666666,
              "#ed7953"
             ],
             [
              0.7777777777777778,
              "#fb9f3a"
             ],
             [
              0.8888888888888888,
              "#fdca26"
             ],
             [
              1,
              "#f0f921"
             ]
            ],
            "type": "heatmapgl"
           }
          ],
          "histogram": [
           {
            "marker": {
             "pattern": {
              "fillmode": "overlay",
              "size": 10,
              "solidity": 0.2
             }
            },
            "type": "histogram"
           }
          ],
          "histogram2d": [
           {
            "colorbar": {
             "outlinewidth": 0,
             "ticks": ""
            },
            "colorscale": [
             [
              0,
              "#0d0887"
             ],
             [
              0.1111111111111111,
              "#46039f"
             ],
             [
              0.2222222222222222,
              "#7201a8"
             ],
             [
              0.3333333333333333,
              "#9c179e"
             ],
             [
              0.4444444444444444,
              "#bd3786"
             ],
             [
              0.5555555555555556,
              "#d8576b"
             ],
             [
              0.6666666666666666,
              "#ed7953"
             ],
             [
              0.7777777777777778,
              "#fb9f3a"
             ],
             [
              0.8888888888888888,
              "#fdca26"
             ],
             [
              1,
              "#f0f921"
             ]
            ],
            "type": "histogram2d"
           }
          ],
          "histogram2dcontour": [
           {
            "colorbar": {
             "outlinewidth": 0,
             "ticks": ""
            },
            "colorscale": [
             [
              0,
              "#0d0887"
             ],
             [
              0.1111111111111111,
              "#46039f"
             ],
             [
              0.2222222222222222,
              "#7201a8"
             ],
             [
              0.3333333333333333,
              "#9c179e"
             ],
             [
              0.4444444444444444,
              "#bd3786"
             ],
             [
              0.5555555555555556,
              "#d8576b"
             ],
             [
              0.6666666666666666,
              "#ed7953"
             ],
             [
              0.7777777777777778,
              "#fb9f3a"
             ],
             [
              0.8888888888888888,
              "#fdca26"
             ],
             [
              1,
              "#f0f921"
             ]
            ],
            "type": "histogram2dcontour"
           }
          ],
          "mesh3d": [
           {
            "colorbar": {
             "outlinewidth": 0,
             "ticks": ""
            },
            "type": "mesh3d"
           }
          ],
          "parcoords": [
           {
            "line": {
             "colorbar": {
              "outlinewidth": 0,
              "ticks": ""
             }
            },
            "type": "parcoords"
           }
          ],
          "pie": [
           {
            "automargin": true,
            "type": "pie"
           }
          ],
          "scatter": [
           {
            "fillpattern": {
             "fillmode": "overlay",
             "size": 10,
             "solidity": 0.2
            },
            "type": "scatter"
           }
          ],
          "scatter3d": [
           {
            "line": {
             "colorbar": {
              "outlinewidth": 0,
              "ticks": ""
             }
            },
            "marker": {
             "colorbar": {
              "outlinewidth": 0,
              "ticks": ""
             }
            },
            "type": "scatter3d"
           }
          ],
          "scattercarpet": [
           {
            "marker": {
             "colorbar": {
              "outlinewidth": 0,
              "ticks": ""
             }
            },
            "type": "scattercarpet"
           }
          ],
          "scattergeo": [
           {
            "marker": {
             "colorbar": {
              "outlinewidth": 0,
              "ticks": ""
             }
            },
            "type": "scattergeo"
           }
          ],
          "scattergl": [
           {
            "marker": {
             "colorbar": {
              "outlinewidth": 0,
              "ticks": ""
             }
            },
            "type": "scattergl"
           }
          ],
          "scattermapbox": [
           {
            "marker": {
             "colorbar": {
              "outlinewidth": 0,
              "ticks": ""
             }
            },
            "type": "scattermapbox"
           }
          ],
          "scatterpolar": [
           {
            "marker": {
             "colorbar": {
              "outlinewidth": 0,
              "ticks": ""
             }
            },
            "type": "scatterpolar"
           }
          ],
          "scatterpolargl": [
           {
            "marker": {
             "colorbar": {
              "outlinewidth": 0,
              "ticks": ""
             }
            },
            "type": "scatterpolargl"
           }
          ],
          "scatterternary": [
           {
            "marker": {
             "colorbar": {
              "outlinewidth": 0,
              "ticks": ""
             }
            },
            "type": "scatterternary"
           }
          ],
          "surface": [
           {
            "colorbar": {
             "outlinewidth": 0,
             "ticks": ""
            },
            "colorscale": [
             [
              0,
              "#0d0887"
             ],
             [
              0.1111111111111111,
              "#46039f"
             ],
             [
              0.2222222222222222,
              "#7201a8"
             ],
             [
              0.3333333333333333,
              "#9c179e"
             ],
             [
              0.4444444444444444,
              "#bd3786"
             ],
             [
              0.5555555555555556,
              "#d8576b"
             ],
             [
              0.6666666666666666,
              "#ed7953"
             ],
             [
              0.7777777777777778,
              "#fb9f3a"
             ],
             [
              0.8888888888888888,
              "#fdca26"
             ],
             [
              1,
              "#f0f921"
             ]
            ],
            "type": "surface"
           }
          ],
          "table": [
           {
            "cells": {
             "fill": {
              "color": "#EBF0F8"
             },
             "line": {
              "color": "white"
             }
            },
            "header": {
             "fill": {
              "color": "#C8D4E3"
             },
             "line": {
              "color": "white"
             }
            },
            "type": "table"
           }
          ]
         },
         "layout": {
          "annotationdefaults": {
           "arrowcolor": "#2a3f5f",
           "arrowhead": 0,
           "arrowwidth": 1
          },
          "autotypenumbers": "strict",
          "coloraxis": {
           "colorbar": {
            "outlinewidth": 0,
            "ticks": ""
           }
          },
          "colorscale": {
           "diverging": [
            [
             0,
             "#8e0152"
            ],
            [
             0.1,
             "#c51b7d"
            ],
            [
             0.2,
             "#de77ae"
            ],
            [
             0.3,
             "#f1b6da"
            ],
            [
             0.4,
             "#fde0ef"
            ],
            [
             0.5,
             "#f7f7f7"
            ],
            [
             0.6,
             "#e6f5d0"
            ],
            [
             0.7,
             "#b8e186"
            ],
            [
             0.8,
             "#7fbc41"
            ],
            [
             0.9,
             "#4d9221"
            ],
            [
             1,
             "#276419"
            ]
           ],
           "sequential": [
            [
             0,
             "#0d0887"
            ],
            [
             0.1111111111111111,
             "#46039f"
            ],
            [
             0.2222222222222222,
             "#7201a8"
            ],
            [
             0.3333333333333333,
             "#9c179e"
            ],
            [
             0.4444444444444444,
             "#bd3786"
            ],
            [
             0.5555555555555556,
             "#d8576b"
            ],
            [
             0.6666666666666666,
             "#ed7953"
            ],
            [
             0.7777777777777778,
             "#fb9f3a"
            ],
            [
             0.8888888888888888,
             "#fdca26"
            ],
            [
             1,
             "#f0f921"
            ]
           ],
           "sequentialminus": [
            [
             0,
             "#0d0887"
            ],
            [
             0.1111111111111111,
             "#46039f"
            ],
            [
             0.2222222222222222,
             "#7201a8"
            ],
            [
             0.3333333333333333,
             "#9c179e"
            ],
            [
             0.4444444444444444,
             "#bd3786"
            ],
            [
             0.5555555555555556,
             "#d8576b"
            ],
            [
             0.6666666666666666,
             "#ed7953"
            ],
            [
             0.7777777777777778,
             "#fb9f3a"
            ],
            [
             0.8888888888888888,
             "#fdca26"
            ],
            [
             1,
             "#f0f921"
            ]
           ]
          },
          "colorway": [
           "#636efa",
           "#EF553B",
           "#00cc96",
           "#ab63fa",
           "#FFA15A",
           "#19d3f3",
           "#FF6692",
           "#B6E880",
           "#FF97FF",
           "#FECB52"
          ],
          "font": {
           "color": "#2a3f5f"
          },
          "geo": {
           "bgcolor": "white",
           "lakecolor": "white",
           "landcolor": "#E5ECF6",
           "showlakes": true,
           "showland": true,
           "subunitcolor": "white"
          },
          "hoverlabel": {
           "align": "left"
          },
          "hovermode": "closest",
          "mapbox": {
           "style": "light"
          },
          "paper_bgcolor": "white",
          "plot_bgcolor": "#E5ECF6",
          "polar": {
           "angularaxis": {
            "gridcolor": "white",
            "linecolor": "white",
            "ticks": ""
           },
           "bgcolor": "#E5ECF6",
           "radialaxis": {
            "gridcolor": "white",
            "linecolor": "white",
            "ticks": ""
           }
          },
          "scene": {
           "xaxis": {
            "backgroundcolor": "#E5ECF6",
            "gridcolor": "white",
            "gridwidth": 2,
            "linecolor": "white",
            "showbackground": true,
            "ticks": "",
            "zerolinecolor": "white"
           },
           "yaxis": {
            "backgroundcolor": "#E5ECF6",
            "gridcolor": "white",
            "gridwidth": 2,
            "linecolor": "white",
            "showbackground": true,
            "ticks": "",
            "zerolinecolor": "white"
           },
           "zaxis": {
            "backgroundcolor": "#E5ECF6",
            "gridcolor": "white",
            "gridwidth": 2,
            "linecolor": "white",
            "showbackground": true,
            "ticks": "",
            "zerolinecolor": "white"
           }
          },
          "shapedefaults": {
           "line": {
            "color": "#2a3f5f"
           }
          },
          "ternary": {
           "aaxis": {
            "gridcolor": "white",
            "linecolor": "white",
            "ticks": ""
           },
           "baxis": {
            "gridcolor": "white",
            "linecolor": "white",
            "ticks": ""
           },
           "bgcolor": "#E5ECF6",
           "caxis": {
            "gridcolor": "white",
            "linecolor": "white",
            "ticks": ""
           }
          },
          "title": {
           "x": 0.05
          },
          "xaxis": {
           "automargin": true,
           "gridcolor": "white",
           "linecolor": "white",
           "ticks": "",
           "title": {
            "standoff": 15
           },
           "zerolinecolor": "white",
           "zerolinewidth": 2
          },
          "yaxis": {
           "automargin": true,
           "gridcolor": "white",
           "linecolor": "white",
           "ticks": "",
           "title": {
            "standoff": 15
           },
           "zerolinecolor": "white",
           "zerolinewidth": 2
          }
         }
        },
        "title": {
         "text": "Top 10 countries achieved the most medals"
        },
        "xaxis": {
         "anchor": "y",
         "domain": [
          0,
          1
         ],
         "title": {
          "text": "Country"
         }
        },
        "yaxis": {
         "anchor": "x",
         "domain": [
          0,
          1
         ],
         "title": {
          "text": "Medals"
         }
        }
       }
      }
     },
     "metadata": {},
     "output_type": "display_data"
    }
   ],
   "source": [
    "import plotly_express as px\n",
    "\n",
    "top10 = final_result.sort(by=\"Total\", descending=True).head(10)\n",
    "fig = px.bar(top10, x=\"country_code\", y=[\"Gold Medal\", \"Silver Medal\", \"Bronze Medal\"],\n",
    "       title=\"Top 10 countries achieved the most medals\",\n",
    "       barmode='stack',\n",
    "       color_discrete_map={'Gold Medal':'#FFD700',\n",
    "                           'Silver Medal': '#C0C0C0',\n",
    "                           'Bronze Medal': '#CD7F32'})\n",
    "fig.layout.xaxis.title.text='Country'\n",
    "fig.layout.yaxis.title.text=\"Medals\"\n",
    "fig.layout.legend.title.text=\"Medals type\"\n",
    "fig.show()"
   ]
  },
  {
   "cell_type": "markdown",
   "metadata": {},
   "source": [
    "The chart shows that USA achieved the top performance with 122 in total medals. Although USA and China gain the same number of gold medals, USA outpaced China in Silver and Bronze Medal, brought victory to USA. "
   ]
  },
  {
   "cell_type": "code",
   "execution_count": 88,
   "metadata": {},
   "outputs": [
    {
     "data": {
      "application/vnd.plotly.v1+json": {
       "config": {
        "plotlyServerURL": "https://plot.ly"
       },
       "data": [
        {
         "coloraxis": "coloraxis",
         "geo": "geo",
         "hovertemplate": "<b>%{hovertext}</b><br><br>country_code=%{location}<br>Gold Medal=%{z}<extra></extra>",
         "hovertext": [
          "USA",
          "CHN",
          "JPN",
          "AUS",
          "FRA",
          "NED",
          "GBR",
          "KOR",
          "ITA",
          "GER",
          "NZL",
          "CAN",
          "UZB",
          "HUN",
          "ESP",
          "SWE",
          "KEN",
          "NOR",
          "IRL",
          "BRA",
          "IRI",
          "UKR",
          "ROU",
          "GEO",
          "SRB",
          "BUL",
          "CZE",
          "DEN",
          "AZE",
          "CRO",
          "CUB",
          "BEL",
          "BRN",
          "SLO",
          "TPE",
          "AUT",
          "HKG",
          "PHI",
          "ALG",
          "INA",
          "POL",
          "ISR",
          "KAZ",
          "JAM",
          "RSA",
          "THA",
          "AIN",
          "ETH",
          "SUI",
          "ECU",
          "POR",
          "GRE",
          "ARG",
          "EGY",
          "TUN",
          "BOT",
          "CHI",
          "LCA",
          "UGA",
          "DOM",
          "GUA",
          "MAR",
          "DMA",
          "PAK",
          "TUR",
          "MEX",
          "ARM",
          "COL",
          "KGZ",
          "PRK",
          "LTU",
          "IND",
          "MDA",
          "KOS",
          "CYP",
          "FIJ",
          "JOR",
          "MGL",
          "PAN",
          "TJK",
          "ALB",
          "GRN",
          "MAS",
          "PUR",
          "CIV",
          "CPV",
          "EOR",
          "PER",
          "QAT",
          "SGP",
          "SVK",
          "ZAM"
         ],
         "locations": [
          "USA",
          "CHN",
          "JPN",
          "AUS",
          "FRA",
          "NED",
          "GBR",
          "KOR",
          "ITA",
          "GER",
          "NZL",
          "CAN",
          "UZB",
          "HUN",
          "ESP",
          "SWE",
          "KEN",
          "NOR",
          "IRL",
          "BRA",
          "IRI",
          "UKR",
          "ROU",
          "GEO",
          "SRB",
          "BUL",
          "CZE",
          "DEN",
          "AZE",
          "CRO",
          "CUB",
          "BEL",
          "BRN",
          "SLO",
          "TPE",
          "AUT",
          "HKG",
          "PHI",
          "ALG",
          "INA",
          "POL",
          "ISR",
          "KAZ",
          "JAM",
          "RSA",
          "THA",
          "AIN",
          "ETH",
          "SUI",
          "ECU",
          "POR",
          "GRE",
          "ARG",
          "EGY",
          "TUN",
          "BOT",
          "CHI",
          "LCA",
          "UGA",
          "DOM",
          "GUA",
          "MAR",
          "DMA",
          "PAK",
          "TUR",
          "MEX",
          "ARM",
          "COL",
          "KGZ",
          "PRK",
          "LTU",
          "IND",
          "MDA",
          "KOS",
          "CYP",
          "FIJ",
          "JOR",
          "MGL",
          "PAN",
          "TJK",
          "ALB",
          "GRN",
          "MAS",
          "PUR",
          "CIV",
          "CPV",
          "EOR",
          "PER",
          "QAT",
          "SGP",
          "SVK",
          "ZAM"
         ],
         "name": "",
         "type": "choropleth",
         "z": [
          40,
          39,
          20,
          18,
          16,
          15,
          14,
          13,
          12,
          11,
          10,
          9,
          8,
          6,
          5,
          4,
          4,
          4,
          4,
          3,
          3,
          3,
          3,
          3,
          3,
          3,
          3,
          2,
          2,
          2,
          2,
          2,
          2,
          2,
          2,
          2,
          2,
          2,
          2,
          2,
          1,
          1,
          1,
          1,
          1,
          1,
          1,
          1,
          1,
          1,
          1,
          1,
          1,
          1,
          1,
          1,
          1,
          1,
          1,
          1,
          1,
          1,
          1,
          1,
          0,
          0,
          0,
          0,
          0,
          0,
          0,
          0,
          0,
          0,
          0,
          0,
          0,
          0,
          0,
          0,
          0,
          0,
          0,
          0,
          0,
          0,
          0,
          0,
          0,
          0,
          0,
          0
         ]
        }
       ],
       "layout": {
        "coloraxis": {
         "colorbar": {
          "title": {
           "text": "Gold Medals"
          }
         },
         "colorscale": [
          [
           0,
           "rgb(255,255,204)"
          ],
          [
           0.125,
           "rgb(255,237,160)"
          ],
          [
           0.25,
           "rgb(254,217,118)"
          ],
          [
           0.375,
           "rgb(254,178,76)"
          ],
          [
           0.5,
           "rgb(253,141,60)"
          ],
          [
           0.625,
           "rgb(252,78,42)"
          ],
          [
           0.75,
           "rgb(227,26,28)"
          ],
          [
           0.875,
           "rgb(189,0,38)"
          ],
          [
           1,
           "rgb(128,0,38)"
          ]
         ]
        },
        "geo": {
         "center": {},
         "domain": {
          "x": [
           0,
           1
          ],
          "y": [
           0,
           1
          ]
         }
        },
        "legend": {
         "tracegroupgap": 0
        },
        "margin": {
         "t": 60
        },
        "template": {
         "data": {
          "bar": [
           {
            "error_x": {
             "color": "#2a3f5f"
            },
            "error_y": {
             "color": "#2a3f5f"
            },
            "marker": {
             "line": {
              "color": "#E5ECF6",
              "width": 0.5
             },
             "pattern": {
              "fillmode": "overlay",
              "size": 10,
              "solidity": 0.2
             }
            },
            "type": "bar"
           }
          ],
          "barpolar": [
           {
            "marker": {
             "line": {
              "color": "#E5ECF6",
              "width": 0.5
             },
             "pattern": {
              "fillmode": "overlay",
              "size": 10,
              "solidity": 0.2
             }
            },
            "type": "barpolar"
           }
          ],
          "carpet": [
           {
            "aaxis": {
             "endlinecolor": "#2a3f5f",
             "gridcolor": "white",
             "linecolor": "white",
             "minorgridcolor": "white",
             "startlinecolor": "#2a3f5f"
            },
            "baxis": {
             "endlinecolor": "#2a3f5f",
             "gridcolor": "white",
             "linecolor": "white",
             "minorgridcolor": "white",
             "startlinecolor": "#2a3f5f"
            },
            "type": "carpet"
           }
          ],
          "choropleth": [
           {
            "colorbar": {
             "outlinewidth": 0,
             "ticks": ""
            },
            "type": "choropleth"
           }
          ],
          "contour": [
           {
            "colorbar": {
             "outlinewidth": 0,
             "ticks": ""
            },
            "colorscale": [
             [
              0,
              "#0d0887"
             ],
             [
              0.1111111111111111,
              "#46039f"
             ],
             [
              0.2222222222222222,
              "#7201a8"
             ],
             [
              0.3333333333333333,
              "#9c179e"
             ],
             [
              0.4444444444444444,
              "#bd3786"
             ],
             [
              0.5555555555555556,
              "#d8576b"
             ],
             [
              0.6666666666666666,
              "#ed7953"
             ],
             [
              0.7777777777777778,
              "#fb9f3a"
             ],
             [
              0.8888888888888888,
              "#fdca26"
             ],
             [
              1,
              "#f0f921"
             ]
            ],
            "type": "contour"
           }
          ],
          "contourcarpet": [
           {
            "colorbar": {
             "outlinewidth": 0,
             "ticks": ""
            },
            "type": "contourcarpet"
           }
          ],
          "heatmap": [
           {
            "colorbar": {
             "outlinewidth": 0,
             "ticks": ""
            },
            "colorscale": [
             [
              0,
              "#0d0887"
             ],
             [
              0.1111111111111111,
              "#46039f"
             ],
             [
              0.2222222222222222,
              "#7201a8"
             ],
             [
              0.3333333333333333,
              "#9c179e"
             ],
             [
              0.4444444444444444,
              "#bd3786"
             ],
             [
              0.5555555555555556,
              "#d8576b"
             ],
             [
              0.6666666666666666,
              "#ed7953"
             ],
             [
              0.7777777777777778,
              "#fb9f3a"
             ],
             [
              0.8888888888888888,
              "#fdca26"
             ],
             [
              1,
              "#f0f921"
             ]
            ],
            "type": "heatmap"
           }
          ],
          "heatmapgl": [
           {
            "colorbar": {
             "outlinewidth": 0,
             "ticks": ""
            },
            "colorscale": [
             [
              0,
              "#0d0887"
             ],
             [
              0.1111111111111111,
              "#46039f"
             ],
             [
              0.2222222222222222,
              "#7201a8"
             ],
             [
              0.3333333333333333,
              "#9c179e"
             ],
             [
              0.4444444444444444,
              "#bd3786"
             ],
             [
              0.5555555555555556,
              "#d8576b"
             ],
             [
              0.6666666666666666,
              "#ed7953"
             ],
             [
              0.7777777777777778,
              "#fb9f3a"
             ],
             [
              0.8888888888888888,
              "#fdca26"
             ],
             [
              1,
              "#f0f921"
             ]
            ],
            "type": "heatmapgl"
           }
          ],
          "histogram": [
           {
            "marker": {
             "pattern": {
              "fillmode": "overlay",
              "size": 10,
              "solidity": 0.2
             }
            },
            "type": "histogram"
           }
          ],
          "histogram2d": [
           {
            "colorbar": {
             "outlinewidth": 0,
             "ticks": ""
            },
            "colorscale": [
             [
              0,
              "#0d0887"
             ],
             [
              0.1111111111111111,
              "#46039f"
             ],
             [
              0.2222222222222222,
              "#7201a8"
             ],
             [
              0.3333333333333333,
              "#9c179e"
             ],
             [
              0.4444444444444444,
              "#bd3786"
             ],
             [
              0.5555555555555556,
              "#d8576b"
             ],
             [
              0.6666666666666666,
              "#ed7953"
             ],
             [
              0.7777777777777778,
              "#fb9f3a"
             ],
             [
              0.8888888888888888,
              "#fdca26"
             ],
             [
              1,
              "#f0f921"
             ]
            ],
            "type": "histogram2d"
           }
          ],
          "histogram2dcontour": [
           {
            "colorbar": {
             "outlinewidth": 0,
             "ticks": ""
            },
            "colorscale": [
             [
              0,
              "#0d0887"
             ],
             [
              0.1111111111111111,
              "#46039f"
             ],
             [
              0.2222222222222222,
              "#7201a8"
             ],
             [
              0.3333333333333333,
              "#9c179e"
             ],
             [
              0.4444444444444444,
              "#bd3786"
             ],
             [
              0.5555555555555556,
              "#d8576b"
             ],
             [
              0.6666666666666666,
              "#ed7953"
             ],
             [
              0.7777777777777778,
              "#fb9f3a"
             ],
             [
              0.8888888888888888,
              "#fdca26"
             ],
             [
              1,
              "#f0f921"
             ]
            ],
            "type": "histogram2dcontour"
           }
          ],
          "mesh3d": [
           {
            "colorbar": {
             "outlinewidth": 0,
             "ticks": ""
            },
            "type": "mesh3d"
           }
          ],
          "parcoords": [
           {
            "line": {
             "colorbar": {
              "outlinewidth": 0,
              "ticks": ""
             }
            },
            "type": "parcoords"
           }
          ],
          "pie": [
           {
            "automargin": true,
            "type": "pie"
           }
          ],
          "scatter": [
           {
            "fillpattern": {
             "fillmode": "overlay",
             "size": 10,
             "solidity": 0.2
            },
            "type": "scatter"
           }
          ],
          "scatter3d": [
           {
            "line": {
             "colorbar": {
              "outlinewidth": 0,
              "ticks": ""
             }
            },
            "marker": {
             "colorbar": {
              "outlinewidth": 0,
              "ticks": ""
             }
            },
            "type": "scatter3d"
           }
          ],
          "scattercarpet": [
           {
            "marker": {
             "colorbar": {
              "outlinewidth": 0,
              "ticks": ""
             }
            },
            "type": "scattercarpet"
           }
          ],
          "scattergeo": [
           {
            "marker": {
             "colorbar": {
              "outlinewidth": 0,
              "ticks": ""
             }
            },
            "type": "scattergeo"
           }
          ],
          "scattergl": [
           {
            "marker": {
             "colorbar": {
              "outlinewidth": 0,
              "ticks": ""
             }
            },
            "type": "scattergl"
           }
          ],
          "scattermapbox": [
           {
            "marker": {
             "colorbar": {
              "outlinewidth": 0,
              "ticks": ""
             }
            },
            "type": "scattermapbox"
           }
          ],
          "scatterpolar": [
           {
            "marker": {
             "colorbar": {
              "outlinewidth": 0,
              "ticks": ""
             }
            },
            "type": "scatterpolar"
           }
          ],
          "scatterpolargl": [
           {
            "marker": {
             "colorbar": {
              "outlinewidth": 0,
              "ticks": ""
             }
            },
            "type": "scatterpolargl"
           }
          ],
          "scatterternary": [
           {
            "marker": {
             "colorbar": {
              "outlinewidth": 0,
              "ticks": ""
             }
            },
            "type": "scatterternary"
           }
          ],
          "surface": [
           {
            "colorbar": {
             "outlinewidth": 0,
             "ticks": ""
            },
            "colorscale": [
             [
              0,
              "#0d0887"
             ],
             [
              0.1111111111111111,
              "#46039f"
             ],
             [
              0.2222222222222222,
              "#7201a8"
             ],
             [
              0.3333333333333333,
              "#9c179e"
             ],
             [
              0.4444444444444444,
              "#bd3786"
             ],
             [
              0.5555555555555556,
              "#d8576b"
             ],
             [
              0.6666666666666666,
              "#ed7953"
             ],
             [
              0.7777777777777778,
              "#fb9f3a"
             ],
             [
              0.8888888888888888,
              "#fdca26"
             ],
             [
              1,
              "#f0f921"
             ]
            ],
            "type": "surface"
           }
          ],
          "table": [
           {
            "cells": {
             "fill": {
              "color": "#EBF0F8"
             },
             "line": {
              "color": "white"
             }
            },
            "header": {
             "fill": {
              "color": "#C8D4E3"
             },
             "line": {
              "color": "white"
             }
            },
            "type": "table"
           }
          ]
         },
         "layout": {
          "annotationdefaults": {
           "arrowcolor": "#2a3f5f",
           "arrowhead": 0,
           "arrowwidth": 1
          },
          "autotypenumbers": "strict",
          "coloraxis": {
           "colorbar": {
            "outlinewidth": 0,
            "ticks": ""
           }
          },
          "colorscale": {
           "diverging": [
            [
             0,
             "#8e0152"
            ],
            [
             0.1,
             "#c51b7d"
            ],
            [
             0.2,
             "#de77ae"
            ],
            [
             0.3,
             "#f1b6da"
            ],
            [
             0.4,
             "#fde0ef"
            ],
            [
             0.5,
             "#f7f7f7"
            ],
            [
             0.6,
             "#e6f5d0"
            ],
            [
             0.7,
             "#b8e186"
            ],
            [
             0.8,
             "#7fbc41"
            ],
            [
             0.9,
             "#4d9221"
            ],
            [
             1,
             "#276419"
            ]
           ],
           "sequential": [
            [
             0,
             "#0d0887"
            ],
            [
             0.1111111111111111,
             "#46039f"
            ],
            [
             0.2222222222222222,
             "#7201a8"
            ],
            [
             0.3333333333333333,
             "#9c179e"
            ],
            [
             0.4444444444444444,
             "#bd3786"
            ],
            [
             0.5555555555555556,
             "#d8576b"
            ],
            [
             0.6666666666666666,
             "#ed7953"
            ],
            [
             0.7777777777777778,
             "#fb9f3a"
            ],
            [
             0.8888888888888888,
             "#fdca26"
            ],
            [
             1,
             "#f0f921"
            ]
           ],
           "sequentialminus": [
            [
             0,
             "#0d0887"
            ],
            [
             0.1111111111111111,
             "#46039f"
            ],
            [
             0.2222222222222222,
             "#7201a8"
            ],
            [
             0.3333333333333333,
             "#9c179e"
            ],
            [
             0.4444444444444444,
             "#bd3786"
            ],
            [
             0.5555555555555556,
             "#d8576b"
            ],
            [
             0.6666666666666666,
             "#ed7953"
            ],
            [
             0.7777777777777778,
             "#fb9f3a"
            ],
            [
             0.8888888888888888,
             "#fdca26"
            ],
            [
             1,
             "#f0f921"
            ]
           ]
          },
          "colorway": [
           "#636efa",
           "#EF553B",
           "#00cc96",
           "#ab63fa",
           "#FFA15A",
           "#19d3f3",
           "#FF6692",
           "#B6E880",
           "#FF97FF",
           "#FECB52"
          ],
          "font": {
           "color": "#2a3f5f"
          },
          "geo": {
           "bgcolor": "white",
           "lakecolor": "white",
           "landcolor": "#E5ECF6",
           "showlakes": true,
           "showland": true,
           "subunitcolor": "white"
          },
          "hoverlabel": {
           "align": "left"
          },
          "hovermode": "closest",
          "mapbox": {
           "style": "light"
          },
          "paper_bgcolor": "white",
          "plot_bgcolor": "#E5ECF6",
          "polar": {
           "angularaxis": {
            "gridcolor": "white",
            "linecolor": "white",
            "ticks": ""
           },
           "bgcolor": "#E5ECF6",
           "radialaxis": {
            "gridcolor": "white",
            "linecolor": "white",
            "ticks": ""
           }
          },
          "scene": {
           "xaxis": {
            "backgroundcolor": "#E5ECF6",
            "gridcolor": "white",
            "gridwidth": 2,
            "linecolor": "white",
            "showbackground": true,
            "ticks": "",
            "zerolinecolor": "white"
           },
           "yaxis": {
            "backgroundcolor": "#E5ECF6",
            "gridcolor": "white",
            "gridwidth": 2,
            "linecolor": "white",
            "showbackground": true,
            "ticks": "",
            "zerolinecolor": "white"
           },
           "zaxis": {
            "backgroundcolor": "#E5ECF6",
            "gridcolor": "white",
            "gridwidth": 2,
            "linecolor": "white",
            "showbackground": true,
            "ticks": "",
            "zerolinecolor": "white"
           }
          },
          "shapedefaults": {
           "line": {
            "color": "#2a3f5f"
           }
          },
          "ternary": {
           "aaxis": {
            "gridcolor": "white",
            "linecolor": "white",
            "ticks": ""
           },
           "baxis": {
            "gridcolor": "white",
            "linecolor": "white",
            "ticks": ""
           },
           "bgcolor": "#E5ECF6",
           "caxis": {
            "gridcolor": "white",
            "linecolor": "white",
            "ticks": ""
           }
          },
          "title": {
           "x": 0.05
          },
          "xaxis": {
           "automargin": true,
           "gridcolor": "white",
           "linecolor": "white",
           "ticks": "",
           "title": {
            "standoff": 15
           },
           "zerolinecolor": "white",
           "zerolinewidth": 2
          },
          "yaxis": {
           "automargin": true,
           "gridcolor": "white",
           "linecolor": "white",
           "ticks": "",
           "title": {
            "standoff": 15
           },
           "zerolinecolor": "white",
           "zerolinewidth": 2
          }
         }
        }
       }
      }
     },
     "metadata": {},
     "output_type": "display_data"
    }
   ],
   "source": [
    "fig = px.choropleth(final_result, \n",
    "                    locations='country_code', \n",
    "                    color='Gold Medal', \n",
    "                    hover_name='country_code', \n",
    "                    color_continuous_scale=px.colors.sequential.YlOrRd)\n",
    "fig.update_layout(coloraxis_colorbar=dict(\n",
    "    title=\"Gold Medals\"\n",
    "))\n",
    "fig.show()"
   ]
  },
  {
   "cell_type": "markdown",
   "metadata": {},
   "source": [
    "**Medal distribution by sports**"
   ]
  },
  {
   "cell_type": "code",
   "execution_count": 92,
   "metadata": {},
   "outputs": [
    {
     "ename": "TypeError",
     "evalue": "invalid input for `col`\n\nExpected `str` or `DataType`, got 'Expr'.",
     "output_type": "error",
     "traceback": [
      "\u001b[0;31m---------------------------------------------------------------------------\u001b[0m",
      "\u001b[0;31mTypeError\u001b[0m                                 Traceback (most recent call last)",
      "Cell \u001b[0;32mIn[92], line 10\u001b[0m\n\u001b[1;32m      1\u001b[0m \u001b[38;5;66;03m# import polars as pl\u001b[39;00m\n\u001b[1;32m      2\u001b[0m \n\u001b[1;32m      3\u001b[0m \u001b[38;5;66;03m# Assuming your DataFrame is named `medals`\u001b[39;00m\n\u001b[0;32m   (...)\u001b[0m\n\u001b[1;32m      7\u001b[0m \u001b[38;5;66;03m#     pl.sum((pl.col('medal_type') == 'Bronze Medal').cast(pl.Int32)).alias(\"Bronze\")\u001b[39;00m\n\u001b[1;32m      8\u001b[0m \u001b[38;5;66;03m# ])\u001b[39;00m\n\u001b[0;32m---> 10\u001b[0m \u001b[38;5;28mprint\u001b[39m(\u001b[43mpl\u001b[49m\u001b[38;5;241;43m.\u001b[39;49m\u001b[43mcount\u001b[49m\u001b[43m(\u001b[49m\u001b[43mpl\u001b[49m\u001b[38;5;241;43m.\u001b[39;49m\u001b[43mcol\u001b[49m\u001b[43m(\u001b[49m\u001b[38;5;124;43m'\u001b[39;49m\u001b[38;5;124;43mmedal_type\u001b[39;49m\u001b[38;5;124;43m'\u001b[39;49m\u001b[43m)\u001b[49m\u001b[43m)\u001b[49m)\n\u001b[1;32m     11\u001b[0m \u001b[38;5;66;03m# Display the result\u001b[39;00m\n\u001b[1;32m     12\u001b[0m \u001b[38;5;66;03m# print(medals_grouped)\u001b[39;00m\n",
      "File \u001b[0;32m~/workspace/na/Polars/polars_env/lib/python3.12/site-packages/polars/functions/lazy.py:174\u001b[0m, in \u001b[0;36mcount\u001b[0;34m(*columns)\u001b[0m\n\u001b[1;32m    169\u001b[0m     issue_deprecation_warning(\n\u001b[1;32m    170\u001b[0m         \u001b[38;5;124m\"\u001b[39m\u001b[38;5;124m`pl.count()` is deprecated. Please use `pl.len()` instead.\u001b[39m\u001b[38;5;124m\"\u001b[39m,\n\u001b[1;32m    171\u001b[0m         version\u001b[38;5;241m=\u001b[39m\u001b[38;5;124m\"\u001b[39m\u001b[38;5;124m0.20.5\u001b[39m\u001b[38;5;124m\"\u001b[39m,\n\u001b[1;32m    172\u001b[0m     )\n\u001b[1;32m    173\u001b[0m     \u001b[38;5;28;01mreturn\u001b[39;00m F\u001b[38;5;241m.\u001b[39mlen()\u001b[38;5;241m.\u001b[39malias(\u001b[38;5;124m\"\u001b[39m\u001b[38;5;124mcount\u001b[39m\u001b[38;5;124m\"\u001b[39m)\n\u001b[0;32m--> 174\u001b[0m \u001b[38;5;28;01mreturn\u001b[39;00m \u001b[43mF\u001b[49m\u001b[38;5;241;43m.\u001b[39;49m\u001b[43mcol\u001b[49m\u001b[43m(\u001b[49m\u001b[38;5;241;43m*\u001b[39;49m\u001b[43mcolumns\u001b[49m\u001b[43m)\u001b[49m\u001b[38;5;241m.\u001b[39mcount()\n",
      "File \u001b[0;32m~/workspace/na/Polars/polars_env/lib/python3.12/site-packages/polars/functions/col.py:273\u001b[0m, in \u001b[0;36mCol.__call__\u001b[0;34m(self, name, *more_names)\u001b[0m\n\u001b[1;32m    126\u001b[0m \u001b[38;5;28;01mdef\u001b[39;00m \u001b[38;5;21m__call__\u001b[39m(\n\u001b[1;32m    127\u001b[0m     \u001b[38;5;28mself\u001b[39m,\n\u001b[1;32m    128\u001b[0m     name: \u001b[38;5;28mstr\u001b[39m \u001b[38;5;241m|\u001b[39m PolarsDataType \u001b[38;5;241m|\u001b[39m Iterable[\u001b[38;5;28mstr\u001b[39m] \u001b[38;5;241m|\u001b[39m Iterable[PolarsDataType],\n\u001b[1;32m    129\u001b[0m     \u001b[38;5;241m*\u001b[39mmore_names: \u001b[38;5;28mstr\u001b[39m \u001b[38;5;241m|\u001b[39m PolarsDataType,\n\u001b[1;32m    130\u001b[0m ) \u001b[38;5;241m-\u001b[39m\u001b[38;5;241m>\u001b[39m Expr:\n\u001b[1;32m    131\u001b[0m \u001b[38;5;250m    \u001b[39m\u001b[38;5;124;03m\"\"\"\u001b[39;00m\n\u001b[1;32m    132\u001b[0m \u001b[38;5;124;03m    Create one or more column expressions representing column(s) in a DataFrame.\u001b[39;00m\n\u001b[1;32m    133\u001b[0m \n\u001b[0;32m   (...)\u001b[0m\n\u001b[1;32m    271\u001b[0m \u001b[38;5;124;03m    └─────┴───────────┴─────┘\u001b[39;00m\n\u001b[1;32m    272\u001b[0m \u001b[38;5;124;03m    \"\"\"\u001b[39;00m\n\u001b[0;32m--> 273\u001b[0m     \u001b[38;5;28;01mreturn\u001b[39;00m \u001b[43m_create_col\u001b[49m\u001b[43m(\u001b[49m\u001b[43mname\u001b[49m\u001b[43m,\u001b[49m\u001b[43m \u001b[49m\u001b[38;5;241;43m*\u001b[39;49m\u001b[43mmore_names\u001b[49m\u001b[43m)\u001b[49m\n",
      "File \u001b[0;32m~/workspace/na/Polars/polars_env/lib/python3.12/site-packages/polars/functions/col.py:66\u001b[0m, in \u001b[0;36m_create_col\u001b[0;34m(name, *more_names)\u001b[0m\n\u001b[1;32m     61\u001b[0m \u001b[38;5;28;01melse\u001b[39;00m:\n\u001b[1;32m     62\u001b[0m     msg \u001b[38;5;241m=\u001b[39m (\n\u001b[1;32m     63\u001b[0m         \u001b[38;5;124m\"\u001b[39m\u001b[38;5;124minvalid input for `col`\u001b[39m\u001b[38;5;124m\"\u001b[39m\n\u001b[1;32m     64\u001b[0m         \u001b[38;5;124mf\u001b[39m\u001b[38;5;124m\"\u001b[39m\u001b[38;5;130;01m\\n\u001b[39;00m\u001b[38;5;130;01m\\n\u001b[39;00m\u001b[38;5;124mExpected `str` or `DataType`, got \u001b[39m\u001b[38;5;132;01m{\u001b[39;00m\u001b[38;5;28mtype\u001b[39m(name)\u001b[38;5;241m.\u001b[39m\u001b[38;5;18m__name__\u001b[39m\u001b[38;5;132;01m!r}\u001b[39;00m\u001b[38;5;124m.\u001b[39m\u001b[38;5;124m\"\u001b[39m\n\u001b[1;32m     65\u001b[0m     )\n\u001b[0;32m---> 66\u001b[0m     \u001b[38;5;28;01mraise\u001b[39;00m \u001b[38;5;167;01mTypeError\u001b[39;00m(msg)\n",
      "\u001b[0;31mTypeError\u001b[0m: invalid input for `col`\n\nExpected `str` or `DataType`, got 'Expr'."
     ]
    }
   ],
   "source": [
    "# import polars as pl\n",
    "\n",
    "# Assuming your DataFrame is named `medals`\n",
    "# medals_grouped = medals.group_by('discipline').agg([\n",
    "#     pl.sum((pl.col('medal_type') == 'Gold Medal').cast(pl.Int32)).alias(\"Gold\"),\n",
    "#     pl.sum((pl.col('medal_type') == 'Silver Medal').cast(pl.Int32)).alias(\"Silver\"),\n",
    "#     pl.sum((pl.col('medal_type') == 'Bronze Medal').cast(pl.Int32)).alias(\"Bronze\")\n",
    "# ])\n",
    "\n",
    "print(pl.len(pl.col('medal_type')))\n",
    "# Display the result\n",
    "# print(medals_grouped)"
   ]
  },
  {
   "cell_type": "code",
   "execution_count": 52,
   "metadata": {},
   "outputs": [
    {
     "data": {
      "text/html": [
       "<div><style>\n",
       ".dataframe > thead > tr,\n",
       ".dataframe > tbody > tr {\n",
       "  text-align: right;\n",
       "  white-space: pre-wrap;\n",
       "}\n",
       "</style>\n",
       "<small>shape: (10, 2)</small><table border=\"1\" class=\"dataframe\"><thead><tr><th>country</th><th>events_participated</th></tr><tr><td>str</td><td>u32</td></tr></thead><tbody><tr><td>&quot;United States&quot;</td><td>619</td></tr><tr><td>&quot;France&quot;</td><td>600</td></tr><tr><td>&quot;Australia&quot;</td><td>475</td></tr><tr><td>&quot;Germany&quot;</td><td>457</td></tr><tr><td>&quot;Japan&quot;</td><td>431</td></tr><tr><td>&quot;Spain&quot;</td><td>401</td></tr><tr><td>&quot;China&quot;</td><td>398</td></tr><tr><td>&quot;Italy&quot;</td><td>397</td></tr><tr><td>&quot;Great Britain&quot;</td><td>342</td></tr><tr><td>&quot;Canada&quot;</td><td>332</td></tr></tbody></table></div>"
      ],
      "text/plain": [
       "shape: (10, 2)\n",
       "┌───────────────┬─────────────────────┐\n",
       "│ country       ┆ events_participated │\n",
       "│ ---           ┆ ---                 │\n",
       "│ str           ┆ u32                 │\n",
       "╞═══════════════╪═════════════════════╡\n",
       "│ United States ┆ 619                 │\n",
       "│ France        ┆ 600                 │\n",
       "│ Australia     ┆ 475                 │\n",
       "│ Germany       ┆ 457                 │\n",
       "│ Japan         ┆ 431                 │\n",
       "│ Spain         ┆ 401                 │\n",
       "│ China         ┆ 398                 │\n",
       "│ Italy         ┆ 397                 │\n",
       "│ Great Britain ┆ 342                 │\n",
       "│ Canada        ┆ 332                 │\n",
       "└───────────────┴─────────────────────┘"
      ]
     },
     "execution_count": 52,
     "metadata": {},
     "output_type": "execute_result"
    }
   ],
   "source": [
    "df = athletes.group_by('country').agg(pl.count(\"code\").alias(\"events_participated\")).sort(\"events_participated\", descending=True)\n",
    "df.head(10)"
   ]
  }
 ],
 "metadata": {
  "kernelspec": {
   "display_name": "polars_env",
   "language": "python",
   "name": "python3"
  },
  "language_info": {
   "codemirror_mode": {
    "name": "ipython",
    "version": 3
   },
   "file_extension": ".py",
   "mimetype": "text/x-python",
   "name": "python",
   "nbconvert_exporter": "python",
   "pygments_lexer": "ipython3",
   "version": "3.12.5"
  }
 },
 "nbformat": 4,
 "nbformat_minor": 2
}
